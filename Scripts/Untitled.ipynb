{
 "cells": [
  {
   "cell_type": "code",
   "execution_count": 9,
   "metadata": {
    "ExecuteTime": {
     "end_time": "2020-12-09T00:32:17.987971Z",
     "start_time": "2020-12-09T00:32:17.817523Z"
    }
   },
   "outputs": [],
   "source": [
    "import pg8000\n",
    "import passwd\n",
    "\n",
    "conn = pg8000.connect(user = 'postgres',\n",
    "    host = 'localhost',\n",
    "    password = '2825',\n",
    "    database = 'jogo')\n",
    "\n",
    "conn.autocommit = True\n",
    "cursor = conn.cursor()"
   ]
  },
  {
   "cell_type": "code",
   "execution_count": 19,
   "metadata": {
    "ExecuteTime": {
     "end_time": "2020-12-09T00:54:51.086163Z",
     "start_time": "2020-12-09T00:54:42.330381Z"
    }
   },
   "outputs": [
    {
     "name": "stdout",
     "output_type": "stream",
     "text": [
      "Collecting playsound\n",
      "  Downloading playsound-1.2.2-py2.py3-none-any.whl (6.0 kB)\n",
      "Installing collected packages: playsound\n",
      "Successfully installed playsound-1.2.2\n"
     ]
    }
   ],
   "source": [
    "!pip install playsound"
   ]
  },
  {
   "cell_type": "code",
   "execution_count": 20,
   "metadata": {
    "ExecuteTime": {
     "end_time": "2020-12-09T00:55:23.092378Z",
     "start_time": "2020-12-09T00:55:23.084399Z"
    }
   },
   "outputs": [],
   "source": [
    "from playsound import playsound\n"
   ]
  },
  {
   "cell_type": "code",
   "execution_count": 25,
   "metadata": {
    "ExecuteTime": {
     "end_time": "2020-12-09T01:00:36.787659Z",
     "start_time": "2020-12-09T01:00:32.905284Z"
    }
   },
   "outputs": [],
   "source": [
    "playsound('files\\songs\\smb_gameover.wav')"
   ]
  },
  {
   "cell_type": "code",
   "execution_count": 17,
   "metadata": {
    "ExecuteTime": {
     "end_time": "2020-12-09T00:40:50.388693Z",
     "start_time": "2020-12-09T00:40:50.376724Z"
    }
   },
   "outputs": [],
   "source": [
    "def exe_query(query=str()):\n",
    "    cursor.execute(query)\n",
    "    try:\n",
    "        response = cursor.fetchall()\n",
    "    except pg8000.exceptions.ProgrammingError:\n",
    "        return cursor.rowcount\n",
    "\n",
    "    return(response)\n",
    "\n",
    "def user_exists(username, email):\n",
    "    query = \"SELECT * FROM public.jogador WHERE email = '%s' AND senha = '%s'\"\n",
    "    print(query % (username, email))\n",
    "    #import pdb; pdb.set_trace()\n",
    "\n",
    "    result = exe_query(query % (username, email))\n",
    "    return result\n",
    "    \n",
    "def add_user(username, email, password):\n",
    "    # Verify if is valid!!!!!\n",
    "\n",
    "    # Add to database\n",
    "    query = \"INSERT INTO  public.jogador (nick, email, senha) VALUES ('%s', '%s', '%s')\" % (\n",
    "        username, email, password)\n",
    "    exe_query(query)\n",
    "    \n",
    "\n",
    "def list_friends(email):\n",
    "    query = '''\n",
    "\t\tWITH l_amizades AS \n",
    "\t\t(\n",
    "\t\t\tSELECT j1.nick n1, j1.email em1, j2.nick n2, j2.email em2\n",
    "\t\t\tFROM public.Amizade am\n",
    "\t\t\tINNER JOIN public.Jogador j1\n",
    "\t\t\tON j1.id_jogador = am.id_jogador1\n",
    "\t\t\tINNER JOIN public.Jogador j2\n",
    "\t\t\tON j2.id_jogador = am.id_jogador2\n",
    "\t\t)\n",
    "\t\tSELECT n1 FROM l_amizades WHERE em2 = '%s'\n",
    "\t\tUNION\n",
    "\t\tSELECT n2 FROM l_amizades WHERE em1 = '%s'\n",
    "\t'''\n",
    "    print(query % (email, email))\n",
    "    return exe_query(query % (email, email))\n"
   ]
  },
  {
   "cell_type": "code",
   "execution_count": 16,
   "metadata": {
    "ExecuteTime": {
     "end_time": "2020-12-09T00:38:09.693766Z",
     "start_time": "2020-12-09T00:38:09.596022Z"
    }
   },
   "outputs": [],
   "source": [
    "add_user('leme','leme@santos.com.br', 'teste')"
   ]
  },
  {
   "cell_type": "code",
   "execution_count": 18,
   "metadata": {
    "ExecuteTime": {
     "end_time": "2020-12-09T00:41:18.279494Z",
     "start_time": "2020-12-09T00:41:18.227638Z"
    }
   },
   "outputs": [
    {
     "name": "stdout",
     "output_type": "stream",
     "text": [
      "\n",
      "\t\tWITH l_amizades AS \n",
      "\t\t(\n",
      "\t\t\tSELECT j1.nick n1, j1.email em1, j2.nick n2, j2.email em2\n",
      "\t\t\tFROM public.Amizade am\n",
      "\t\t\tINNER JOIN public.Jogador j1\n",
      "\t\t\tON j1.id_jogador = am.id_jogador1\n",
      "\t\t\tINNER JOIN public.Jogador j2\n",
      "\t\t\tON j2.id_jogador = am.id_jogador2\n",
      "\t\t)\n",
      "\t\tSELECT n1 FROM l_amizades WHERE em2 = 'haroldo.mansur@outlook.com'\n",
      "\t\tUNION\n",
      "\t\tSELECT n2 FROM l_amizades WHERE em1 = 'haroldo.mansur@outlook.com'\n",
      "\t\n"
     ]
    },
    {
     "data": {
      "text/plain": [
       "(['doutorabobrinha'],)"
      ]
     },
     "execution_count": 18,
     "metadata": {},
     "output_type": "execute_result"
    }
   ],
   "source": [
    "list_friends('haroldo.mansur@outlook.com')"
   ]
  },
  {
   "cell_type": "code",
   "execution_count": 56,
   "metadata": {
    "ExecuteTime": {
     "end_time": "2020-12-09T01:22:36.579468Z",
     "start_time": "2020-12-09T01:22:36.571524Z"
    }
   },
   "outputs": [],
   "source": [
    "def add_song(name, author, artist, file_path):\n",
    "    # Verify if is valid!!!!!\n",
    "\n",
    "    # Add to database\n",
    "    query = \"INSERT INTO  public.musica (nome, autor, artista, local_arquivo) VALUES ('%s', '%s', '%s', '%s')\" % (\n",
    "        name, author, artist, file_path)\n",
    "    exe_query(query)\n",
    "    \n",
    "def list_songs():\n",
    "\n",
    "    query = \"select nome from efeito_sonoro\"\n",
    "    \n",
    "    return exe_query(query)\n",
    "    \n",
    "def get_song(name):\n",
    "    query = \"select local_arquivo from efeito_sonoro where nome = '%s'\"\n",
    "    \n",
    "    song_path = exe_query(query % (name))[0]\n",
    "    \n",
    "    \n",
    "    playsound(song_path[0])\n"
   ]
  },
  {
   "cell_type": "code",
   "execution_count": 61,
   "metadata": {
    "ExecuteTime": {
     "end_time": "2020-12-09T01:23:54.564260Z",
     "start_time": "2020-12-09T01:23:50.731618Z"
    }
   },
   "outputs": [],
   "source": [
    "get_song('Game Over')"
   ]
  },
  {
   "cell_type": "code",
   "execution_count": 60,
   "metadata": {
    "ExecuteTime": {
     "end_time": "2020-12-09T01:23:49.448394Z",
     "start_time": "2020-12-09T01:23:49.442401Z"
    }
   },
   "outputs": [
    {
     "data": {
      "text/plain": [
       "(['Game Over'], ['Morte'], ['Fim'], ['Aviso'])"
      ]
     },
     "execution_count": 60,
     "metadata": {},
     "output_type": "execute_result"
    }
   ],
   "source": [
    "list_songs()"
   ]
  },
  {
   "cell_type": "code",
   "execution_count": null,
   "metadata": {},
   "outputs": [],
   "source": []
  }
 ],
 "metadata": {
  "kernelspec": {
   "display_name": "Python 3",
   "language": "python",
   "name": "python3"
  }
 },
 "nbformat": 4,
 "nbformat_minor": 4
}
