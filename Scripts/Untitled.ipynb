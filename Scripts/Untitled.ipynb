{
 "cells": [
  {
   "cell_type": "code",
   "execution_count": 9,
   "metadata": {
    "ExecuteTime": {
     "end_time": "2020-12-09T00:32:17.987971Z",
     "start_time": "2020-12-09T00:32:17.817523Z"
    }
   },
   "outputs": [],
   "source": [
    "import pg8000\n",
    "import passwd\n",
    "\n",
    "conn = pg8000.connect(user = 'postgres',\n",
    "    host = 'localhost',\n",
    "    password = '2825',\n",
    "    database = 'jogo')\n",
    "\n",
    "conn.autocommit = True\n",
    "cursor = conn.cursor()"
   ]
  },
  {
   "cell_type": "code",
   "execution_count": 15,
   "metadata": {
    "ExecuteTime": {
     "end_time": "2020-12-09T00:38:08.795540Z",
     "start_time": "2020-12-09T00:38:08.784566Z"
    }
   },
   "outputs": [],
   "source": [
    "def exe_query(query=str()):\n",
    "    cursor.execute(query)\n",
    "    try:\n",
    "        response = cursor.fetchall()\n",
    "    except pg8000.exceptions.ProgrammingError:\n",
    "        return cursor.rowcount\n",
    "\n",
    "    return(response)\n",
    "\n",
    "def user_exists(username, email):\n",
    "    query = \"SELECT * FROM public.jogador WHERE email = '%s' AND senha = '%s'\"\n",
    "    print(query % (username, email))\n",
    "    #import pdb; pdb.set_trace()\n",
    "\n",
    "    result = exe_query(query % (username, email))\n",
    "    return result\n",
    "    \n",
    "def add_user(username, email, password):\n",
    "    # Verify if is valid!!!!!\n",
    "\n",
    "    # Add to database\n",
    "    query = \"INSERT INTO  public.jogador (nick, email, senha) VALUES ('%s', '%s', '%s')\" % (\n",
    "        username, email, password)\n",
    "    exe_query(query)"
   ]
  },
  {
   "cell_type": "code",
   "execution_count": 16,
   "metadata": {
    "ExecuteTime": {
     "end_time": "2020-12-09T00:38:09.693766Z",
     "start_time": "2020-12-09T00:38:09.596022Z"
    }
   },
   "outputs": [],
   "source": [
    "add_user('leme','leme@santos.com.br', 'teste')"
   ]
  },
  {
   "cell_type": "code",
   "execution_count": null,
   "metadata": {},
   "outputs": [],
   "source": []
  }
 ],
 "metadata": {
  "kernelspec": {
   "display_name": "Python 3",
   "language": "python",
   "name": "python3"
  }
 },
 "nbformat": 4,
 "nbformat_minor": 4
}
